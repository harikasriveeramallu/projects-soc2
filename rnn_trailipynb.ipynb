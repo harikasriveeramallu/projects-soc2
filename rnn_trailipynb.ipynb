{
  "nbformat": 4,
  "nbformat_minor": 0,
  "metadata": {
    "colab": {
      "provenance": []
    },
    "kernelspec": {
      "name": "python3",
      "display_name": "Python 3"
    },
    "language_info": {
      "name": "python"
    }
  },
  "cells": [
    {
      "cell_type": "code",
      "execution_count": null,
      "metadata": {
        "colab": {
          "base_uri": "https://localhost:8080/"
        },
        "id": "du8q0pMBUK4B",
        "outputId": "3a76f9d2-db0e-4fd7-fae7-4e1f4f544a3e"
      },
      "outputs": [
        {
          "output_type": "stream",
          "name": "stdout",
          "text": [
            "Requirement already satisfied: tensorflow in /usr/local/lib/python3.10/dist-packages (2.15.0)\n",
            "Requirement already satisfied: absl-py>=1.0.0 in /usr/local/lib/python3.10/dist-packages (from tensorflow) (1.4.0)\n",
            "Requirement already satisfied: astunparse>=1.6.0 in /usr/local/lib/python3.10/dist-packages (from tensorflow) (1.6.3)\n",
            "Requirement already satisfied: flatbuffers>=23.5.26 in /usr/local/lib/python3.10/dist-packages (from tensorflow) (23.5.26)\n",
            "Requirement already satisfied: gast!=0.5.0,!=0.5.1,!=0.5.2,>=0.2.1 in /usr/local/lib/python3.10/dist-packages (from tensorflow) (0.5.4)\n",
            "Requirement already satisfied: google-pasta>=0.1.1 in /usr/local/lib/python3.10/dist-packages (from tensorflow) (0.2.0)\n",
            "Requirement already satisfied: h5py>=2.9.0 in /usr/local/lib/python3.10/dist-packages (from tensorflow) (3.9.0)\n",
            "Requirement already satisfied: libclang>=13.0.0 in /usr/local/lib/python3.10/dist-packages (from tensorflow) (16.0.6)\n",
            "Requirement already satisfied: ml-dtypes~=0.2.0 in /usr/local/lib/python3.10/dist-packages (from tensorflow) (0.2.0)\n",
            "Requirement already satisfied: numpy<2.0.0,>=1.23.5 in /usr/local/lib/python3.10/dist-packages (from tensorflow) (1.25.2)\n",
            "Requirement already satisfied: opt-einsum>=2.3.2 in /usr/local/lib/python3.10/dist-packages (from tensorflow) (3.3.0)\n",
            "Requirement already satisfied: packaging in /usr/local/lib/python3.10/dist-packages (from tensorflow) (23.2)\n",
            "Requirement already satisfied: protobuf!=4.21.0,!=4.21.1,!=4.21.2,!=4.21.3,!=4.21.4,!=4.21.5,<5.0.0dev,>=3.20.3 in /usr/local/lib/python3.10/dist-packages (from tensorflow) (3.20.3)\n",
            "Requirement already satisfied: setuptools in /usr/local/lib/python3.10/dist-packages (from tensorflow) (67.7.2)\n",
            "Requirement already satisfied: six>=1.12.0 in /usr/local/lib/python3.10/dist-packages (from tensorflow) (1.16.0)\n",
            "Requirement already satisfied: termcolor>=1.1.0 in /usr/local/lib/python3.10/dist-packages (from tensorflow) (2.4.0)\n",
            "Requirement already satisfied: typing-extensions>=3.6.6 in /usr/local/lib/python3.10/dist-packages (from tensorflow) (4.10.0)\n",
            "Requirement already satisfied: wrapt<1.15,>=1.11.0 in /usr/local/lib/python3.10/dist-packages (from tensorflow) (1.14.1)\n",
            "Requirement already satisfied: tensorflow-io-gcs-filesystem>=0.23.1 in /usr/local/lib/python3.10/dist-packages (from tensorflow) (0.36.0)\n",
            "Requirement already satisfied: grpcio<2.0,>=1.24.3 in /usr/local/lib/python3.10/dist-packages (from tensorflow) (1.62.0)\n",
            "Requirement already satisfied: tensorboard<2.16,>=2.15 in /usr/local/lib/python3.10/dist-packages (from tensorflow) (2.15.2)\n",
            "Requirement already satisfied: tensorflow-estimator<2.16,>=2.15.0 in /usr/local/lib/python3.10/dist-packages (from tensorflow) (2.15.0)\n",
            "Requirement already satisfied: keras<2.16,>=2.15.0 in /usr/local/lib/python3.10/dist-packages (from tensorflow) (2.15.0)\n",
            "Requirement already satisfied: wheel<1.0,>=0.23.0 in /usr/local/lib/python3.10/dist-packages (from astunparse>=1.6.0->tensorflow) (0.42.0)\n",
            "Requirement already satisfied: google-auth<3,>=1.6.3 in /usr/local/lib/python3.10/dist-packages (from tensorboard<2.16,>=2.15->tensorflow) (2.27.0)\n",
            "Requirement already satisfied: google-auth-oauthlib<2,>=0.5 in /usr/local/lib/python3.10/dist-packages (from tensorboard<2.16,>=2.15->tensorflow) (1.2.0)\n",
            "Requirement already satisfied: markdown>=2.6.8 in /usr/local/lib/python3.10/dist-packages (from tensorboard<2.16,>=2.15->tensorflow) (3.5.2)\n",
            "Requirement already satisfied: requests<3,>=2.21.0 in /usr/local/lib/python3.10/dist-packages (from tensorboard<2.16,>=2.15->tensorflow) (2.31.0)\n",
            "Requirement already satisfied: tensorboard-data-server<0.8.0,>=0.7.0 in /usr/local/lib/python3.10/dist-packages (from tensorboard<2.16,>=2.15->tensorflow) (0.7.2)\n",
            "Requirement already satisfied: werkzeug>=1.0.1 in /usr/local/lib/python3.10/dist-packages (from tensorboard<2.16,>=2.15->tensorflow) (3.0.1)\n",
            "Requirement already satisfied: cachetools<6.0,>=2.0.0 in /usr/local/lib/python3.10/dist-packages (from google-auth<3,>=1.6.3->tensorboard<2.16,>=2.15->tensorflow) (5.3.3)\n",
            "Requirement already satisfied: pyasn1-modules>=0.2.1 in /usr/local/lib/python3.10/dist-packages (from google-auth<3,>=1.6.3->tensorboard<2.16,>=2.15->tensorflow) (0.3.0)\n",
            "Requirement already satisfied: rsa<5,>=3.1.4 in /usr/local/lib/python3.10/dist-packages (from google-auth<3,>=1.6.3->tensorboard<2.16,>=2.15->tensorflow) (4.9)\n",
            "Requirement already satisfied: requests-oauthlib>=0.7.0 in /usr/local/lib/python3.10/dist-packages (from google-auth-oauthlib<2,>=0.5->tensorboard<2.16,>=2.15->tensorflow) (1.3.1)\n",
            "Requirement already satisfied: charset-normalizer<4,>=2 in /usr/local/lib/python3.10/dist-packages (from requests<3,>=2.21.0->tensorboard<2.16,>=2.15->tensorflow) (3.3.2)\n",
            "Requirement already satisfied: idna<4,>=2.5 in /usr/local/lib/python3.10/dist-packages (from requests<3,>=2.21.0->tensorboard<2.16,>=2.15->tensorflow) (3.6)\n",
            "Requirement already satisfied: urllib3<3,>=1.21.1 in /usr/local/lib/python3.10/dist-packages (from requests<3,>=2.21.0->tensorboard<2.16,>=2.15->tensorflow) (2.0.7)\n",
            "Requirement already satisfied: certifi>=2017.4.17 in /usr/local/lib/python3.10/dist-packages (from requests<3,>=2.21.0->tensorboard<2.16,>=2.15->tensorflow) (2024.2.2)\n",
            "Requirement already satisfied: MarkupSafe>=2.1.1 in /usr/local/lib/python3.10/dist-packages (from werkzeug>=1.0.1->tensorboard<2.16,>=2.15->tensorflow) (2.1.5)\n",
            "Requirement already satisfied: pyasn1<0.6.0,>=0.4.6 in /usr/local/lib/python3.10/dist-packages (from pyasn1-modules>=0.2.1->google-auth<3,>=1.6.3->tensorboard<2.16,>=2.15->tensorflow) (0.5.1)\n",
            "Requirement already satisfied: oauthlib>=3.0.0 in /usr/local/lib/python3.10/dist-packages (from requests-oauthlib>=0.7.0->google-auth-oauthlib<2,>=0.5->tensorboard<2.16,>=2.15->tensorflow) (3.2.2)\n"
          ]
        }
      ],
      "source": [
        "pip install tensorflow"
      ]
    },
    {
      "cell_type": "code",
      "source": [
        "import numpy as np\n",
        "from keras.models import Sequential\n",
        "from keras.layers import SimpleRNN,Dense,Embedding\n",
        "from keras.preprocessing.text import Tokenizer\n",
        "from keras.preprocessing.sequence import pad_sequences\n",
        "from keras.utils import to_categorical"
      ],
      "metadata": {
        "id": "DZbd0jA2U3m4"
      },
      "execution_count": null,
      "outputs": []
    },
    {
      "cell_type": "code",
      "source": [
        "#Generating some example sequential data\n",
        "sentences=[\"I love learning\",\"Today is holiday\",\"Recurrent Neural Networks are powerful\"]"
      ],
      "metadata": {
        "id": "GEGJ-aREXiS6"
      },
      "execution_count": null,
      "outputs": []
    },
    {
      "cell_type": "code",
      "source": [
        "#Tokenizing the words\n",
        "tokenizer= Tokenizer()\n",
        "tokenizer.fit_on_texts(sentences)\n",
        "total_words=len(tokenizer.word_index)+1\n",
        "print(total_words)"
      ],
      "metadata": {
        "colab": {
          "base_uri": "https://localhost:8080/"
        },
        "id": "G-1hBtPOYaFy",
        "outputId": "c4ab6c52-fdf5-4609-ed96-45f691cefec4"
      },
      "execution_count": null,
      "outputs": [
        {
          "output_type": "stream",
          "name": "stdout",
          "text": [
            "12\n"
          ]
        }
      ]
    },
    {
      "cell_type": "code",
      "source": [
        "# Creating input sequences and their corresponding next words\n",
        "input_sequences = []\n",
        "for sentence in sentences:\n",
        "    tokenized_sentence = tokenizer.texts_to_sequences([sentence])[0]\n",
        "    for i in range(1, len(tokenized_sentence)):\n",
        "        n_gram_sequence = tokenized_sentence[:i+1]\n",
        "        input_sequences.append(n_gram_sequence)\n",
        "input_sequences"
      ],
      "metadata": {
        "colab": {
          "base_uri": "https://localhost:8080/"
        },
        "id": "jQ0moEmOZlCA",
        "outputId": "c75d604a-c970-4b53-9917-7717ab83d1ef"
      },
      "execution_count": null,
      "outputs": [
        {
          "output_type": "execute_result",
          "data": {
            "text/plain": [
              "[[1, 2],\n",
              " [1, 2, 3],\n",
              " [4, 5],\n",
              " [4, 5, 6],\n",
              " [7, 8],\n",
              " [7, 8, 9],\n",
              " [7, 8, 9, 10],\n",
              " [7, 8, 9, 10, 11]]"
            ]
          },
          "metadata": {},
          "execution_count": 15
        }
      ]
    },
    {
      "cell_type": "code",
      "source": [
        "# Padding sequences for consistent input size\n",
        "max_sequence_length = max([len(seq) for seq in input_sequences])\n",
        "input_sequences = pad_sequences(input_sequences, maxlen=max_sequence_length, padding='pre')"
      ],
      "metadata": {
        "id": "_Os4mcO-aJCP"
      },
      "execution_count": null,
      "outputs": []
    },
    {
      "cell_type": "code",
      "source": [
        "#Creating input and output data\n",
        "X, y = input_sequences[:, :-1], input_sequences[:, -1]\n",
        "y = to_categorical(y, num_classes=total_words)"
      ],
      "metadata": {
        "id": "V4R5jXd-a3T9"
      },
      "execution_count": null,
      "outputs": []
    },
    {
      "cell_type": "code",
      "source": [
        "# Building a simple RNN model\n",
        "model = Sequential()\n",
        "model.add(Embedding(input_dim=total_words, output_dim=50, input_length=max_sequence_length-1))\n",
        "model.add(SimpleRNN(100, return_sequences=True))\n",
        "model.add(SimpleRNN(100))\n",
        "model.add(Dense(total_words, activation='softmax'))"
      ],
      "metadata": {
        "id": "2T7-k4mdcV3K"
      },
      "execution_count": null,
      "outputs": []
    },
    {
      "cell_type": "code",
      "source": [
        "#compiling the model\n",
        "model.compile(optimizer='adam',loss='categorical_crossentropy',metrics=['accuracy'])\n",
        "#training Model\n",
        "model.fit(X,y,epochs=50,verbose=2)"
      ],
      "metadata": {
        "colab": {
          "base_uri": "https://localhost:8080/"
        },
        "id": "PKmGatgyj6RL",
        "outputId": "5f5e753e-8abd-423f-9d14-43370a272e44"
      },
      "execution_count": null,
      "outputs": [
        {
          "output_type": "stream",
          "name": "stdout",
          "text": [
            "Epoch 1/50\n",
            "1/1 - 3s - loss: 2.4714 - accuracy: 0.0000e+00 - 3s/epoch - 3s/step\n",
            "Epoch 2/50\n",
            "1/1 - 0s - loss: 2.3619 - accuracy: 0.5000 - 12ms/epoch - 12ms/step\n",
            "Epoch 3/50\n",
            "1/1 - 0s - loss: 2.2595 - accuracy: 0.6250 - 10ms/epoch - 10ms/step\n",
            "Epoch 4/50\n",
            "1/1 - 0s - loss: 2.1604 - accuracy: 0.6250 - 10ms/epoch - 10ms/step\n",
            "Epoch 5/50\n",
            "1/1 - 0s - loss: 2.0628 - accuracy: 0.6250 - 12ms/epoch - 12ms/step\n",
            "Epoch 6/50\n",
            "1/1 - 0s - loss: 1.9663 - accuracy: 0.6250 - 12ms/epoch - 12ms/step\n",
            "Epoch 7/50\n",
            "1/1 - 0s - loss: 1.8711 - accuracy: 0.6250 - 11ms/epoch - 11ms/step\n",
            "Epoch 8/50\n",
            "1/1 - 0s - loss: 1.7780 - accuracy: 0.7500 - 10ms/epoch - 10ms/step\n",
            "Epoch 9/50\n",
            "1/1 - 0s - loss: 1.6873 - accuracy: 0.7500 - 10ms/epoch - 10ms/step\n",
            "Epoch 10/50\n",
            "1/1 - 0s - loss: 1.5994 - accuracy: 0.7500 - 13ms/epoch - 13ms/step\n",
            "Epoch 11/50\n",
            "1/1 - 0s - loss: 1.5145 - accuracy: 0.7500 - 11ms/epoch - 11ms/step\n",
            "Epoch 12/50\n",
            "1/1 - 0s - loss: 1.4329 - accuracy: 0.7500 - 12ms/epoch - 12ms/step\n",
            "Epoch 13/50\n",
            "1/1 - 0s - loss: 1.3554 - accuracy: 0.7500 - 10ms/epoch - 10ms/step\n",
            "Epoch 14/50\n",
            "1/1 - 0s - loss: 1.2823 - accuracy: 0.8750 - 10ms/epoch - 10ms/step\n",
            "Epoch 15/50\n",
            "1/1 - 0s - loss: 1.2139 - accuracy: 1.0000 - 10ms/epoch - 10ms/step\n",
            "Epoch 16/50\n",
            "1/1 - 0s - loss: 1.1501 - accuracy: 1.0000 - 11ms/epoch - 11ms/step\n",
            "Epoch 17/50\n",
            "1/1 - 0s - loss: 1.0908 - accuracy: 1.0000 - 10ms/epoch - 10ms/step\n",
            "Epoch 18/50\n",
            "1/1 - 0s - loss: 1.0355 - accuracy: 1.0000 - 10ms/epoch - 10ms/step\n",
            "Epoch 19/50\n",
            "1/1 - 0s - loss: 0.9835 - accuracy: 1.0000 - 11ms/epoch - 11ms/step\n",
            "Epoch 20/50\n",
            "1/1 - 0s - loss: 0.9339 - accuracy: 1.0000 - 11ms/epoch - 11ms/step\n",
            "Epoch 21/50\n",
            "1/1 - 0s - loss: 0.8856 - accuracy: 1.0000 - 11ms/epoch - 11ms/step\n",
            "Epoch 22/50\n",
            "1/1 - 0s - loss: 0.8380 - accuracy: 1.0000 - 10ms/epoch - 10ms/step\n",
            "Epoch 23/50\n",
            "1/1 - 0s - loss: 0.7904 - accuracy: 1.0000 - 12ms/epoch - 12ms/step\n",
            "Epoch 24/50\n",
            "1/1 - 0s - loss: 0.7422 - accuracy: 1.0000 - 12ms/epoch - 12ms/step\n",
            "Epoch 25/50\n",
            "1/1 - 0s - loss: 0.6933 - accuracy: 1.0000 - 10ms/epoch - 10ms/step\n",
            "Epoch 26/50\n",
            "1/1 - 0s - loss: 0.6439 - accuracy: 1.0000 - 10ms/epoch - 10ms/step\n",
            "Epoch 27/50\n",
            "1/1 - 0s - loss: 0.5946 - accuracy: 1.0000 - 10ms/epoch - 10ms/step\n",
            "Epoch 28/50\n",
            "1/1 - 0s - loss: 0.5463 - accuracy: 1.0000 - 10ms/epoch - 10ms/step\n",
            "Epoch 29/50\n",
            "1/1 - 0s - loss: 0.5002 - accuracy: 1.0000 - 13ms/epoch - 13ms/step\n",
            "Epoch 30/50\n",
            "1/1 - 0s - loss: 0.4571 - accuracy: 1.0000 - 11ms/epoch - 11ms/step\n",
            "Epoch 31/50\n",
            "1/1 - 0s - loss: 0.4177 - accuracy: 1.0000 - 13ms/epoch - 13ms/step\n",
            "Epoch 32/50\n",
            "1/1 - 0s - loss: 0.3820 - accuracy: 1.0000 - 22ms/epoch - 22ms/step\n",
            "Epoch 33/50\n",
            "1/1 - 0s - loss: 0.3500 - accuracy: 1.0000 - 17ms/epoch - 17ms/step\n",
            "Epoch 34/50\n",
            "1/1 - 0s - loss: 0.3212 - accuracy: 1.0000 - 11ms/epoch - 11ms/step\n",
            "Epoch 35/50\n",
            "1/1 - 0s - loss: 0.2952 - accuracy: 1.0000 - 11ms/epoch - 11ms/step\n",
            "Epoch 36/50\n",
            "1/1 - 0s - loss: 0.2715 - accuracy: 1.0000 - 11ms/epoch - 11ms/step\n",
            "Epoch 37/50\n",
            "1/1 - 0s - loss: 0.2497 - accuracy: 1.0000 - 10ms/epoch - 10ms/step\n",
            "Epoch 38/50\n",
            "1/1 - 0s - loss: 0.2295 - accuracy: 1.0000 - 12ms/epoch - 12ms/step\n",
            "Epoch 39/50\n",
            "1/1 - 0s - loss: 0.2108 - accuracy: 1.0000 - 12ms/epoch - 12ms/step\n",
            "Epoch 40/50\n",
            "1/1 - 0s - loss: 0.1933 - accuracy: 1.0000 - 11ms/epoch - 11ms/step\n",
            "Epoch 41/50\n",
            "1/1 - 0s - loss: 0.1771 - accuracy: 1.0000 - 11ms/epoch - 11ms/step\n",
            "Epoch 42/50\n",
            "1/1 - 0s - loss: 0.1619 - accuracy: 1.0000 - 12ms/epoch - 12ms/step\n",
            "Epoch 43/50\n",
            "1/1 - 0s - loss: 0.1479 - accuracy: 1.0000 - 10ms/epoch - 10ms/step\n",
            "Epoch 44/50\n",
            "1/1 - 0s - loss: 0.1347 - accuracy: 1.0000 - 10ms/epoch - 10ms/step\n",
            "Epoch 45/50\n",
            "1/1 - 0s - loss: 0.1226 - accuracy: 1.0000 - 12ms/epoch - 12ms/step\n",
            "Epoch 46/50\n",
            "1/1 - 0s - loss: 0.1114 - accuracy: 1.0000 - 11ms/epoch - 11ms/step\n",
            "Epoch 47/50\n",
            "1/1 - 0s - loss: 0.1010 - accuracy: 1.0000 - 11ms/epoch - 11ms/step\n",
            "Epoch 48/50\n",
            "1/1 - 0s - loss: 0.0915 - accuracy: 1.0000 - 11ms/epoch - 11ms/step\n",
            "Epoch 49/50\n",
            "1/1 - 0s - loss: 0.0829 - accuracy: 1.0000 - 10ms/epoch - 10ms/step\n",
            "Epoch 50/50\n",
            "1/1 - 0s - loss: 0.0750 - accuracy: 1.0000 - 11ms/epoch - 11ms/step\n"
          ]
        },
        {
          "output_type": "execute_result",
          "data": {
            "text/plain": [
              "<keras.src.callbacks.History at 0x795ac03d1360>"
            ]
          },
          "metadata": {},
          "execution_count": 19
        }
      ]
    },
    {
      "cell_type": "code",
      "source": [
        "# Generating text using the trained model\n",
        "seed_text = input(\"Enter the starting word: \")\n",
        "next_words = int(input(\"Enter how many words to predict: \"))\n",
        "\n",
        "for _ in range(next_words):\n",
        "    tokenized_seed = tokenizer.texts_to_sequences([seed_text])[0]\n",
        "    tokenized_seed = pad_sequences([tokenized_seed], maxlen=max_sequence_length-1, padding='pre')\n",
        "    predicted_word_index = np.argmax(model.predict(tokenized_seed), axis=-1)\n",
        "    predicted_word = tokenizer.index_word[predicted_word_index[0]]\n",
        "    seed_text += \" \" + predicted_word\n",
        "\n",
        "print(seed_text)"
      ],
      "metadata": {
        "colab": {
          "base_uri": "https://localhost:8080/"
        },
        "id": "TRX93t59kZWv",
        "outputId": "a18c55e4-6cc4-469e-c798-b1826e66a0d7"
      },
      "execution_count": null,
      "outputs": [
        {
          "output_type": "stream",
          "name": "stdout",
          "text": [
            "Enter the starting word: I\n",
            "Enter how many words to predict: 3\n",
            "1/1 [==============================] - 0s 296ms/step\n",
            "1/1 [==============================] - 0s 25ms/step\n",
            "1/1 [==============================] - 0s 26ms/step\n",
            "I love learning are\n"
          ]
        }
      ]
    }
  ]
}