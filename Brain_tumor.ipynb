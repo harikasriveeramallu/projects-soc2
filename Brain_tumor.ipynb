{
  "nbformat": 4,
  "nbformat_minor": 0,
  "metadata": {
    "colab": {
      "provenance": []
    },
    "kernelspec": {
      "name": "python3",
      "display_name": "Python 3"
    },
    "language_info": {
      "name": "python"
    }
  },
  "cells": [
    {
      "cell_type": "code",
      "execution_count": null,
      "metadata": {
        "id": "iZdMWO2gkrzz"
      },
      "outputs": [],
      "source": [
        "from tensorflow.keras.models import load_model\n",
        "from tensorflow.keras.preprocessing import image\n",
        "import numpy as np"
      ]
    },
    {
      "cell_type": "code",
      "source": [
        "#Load the save model\n",
        "model=load_model(\"/content/drive/MyDrive/Model (1).h5\")"
      ],
      "metadata": {
        "id": "jP3w6eCDlMT6"
      },
      "execution_count": null,
      "outputs": []
    },
    {
      "cell_type": "code",
      "source": [
        "#Load and preprocessing the test image\n",
        "test_image_path='/content/drive/MyDrive/BRAIN TUMOR/Train/yes/y1030.jpg'\n",
        "img=image.load_img(test_image_path,target_size=(224,224))\n",
        "img_array=image.img_to_array(img)\n",
        "img_array=np.expand_dims(img_array,axis=0)"
      ],
      "metadata": {
        "id": "rcMfoxjVoBV5"
      },
      "execution_count": null,
      "outputs": []
    },
    {
      "cell_type": "code",
      "source": [
        "#Add batch dimensions\n",
        "img_array/=255. #Normalized the pixel values\n",
        "#Make predictions\n",
        "prediction=model.predict(img_array)\n",
        "#Print the predictions\n",
        "print(prediction)"
      ],
      "metadata": {
        "colab": {
          "base_uri": "https://localhost:8080/"
        },
        "id": "N0w_9VtlpE85",
        "outputId": "5c7887c7-6f68-4d06-b674-49086c69f78f"
      },
      "execution_count": null,
      "outputs": [
        {
          "output_type": "stream",
          "name": "stdout",
          "text": [
            "1/1 [==============================] - 0s 105ms/step\n",
            "[[0.]]\n"
          ]
        }
      ]
    },
    {
      "cell_type": "code",
      "source": [
        "if prediction<0.5:\n",
        "  print(\"Prediciton:No Tumor probability\",prediction[0][0])\n",
        "else:\n",
        "  print(\"Prediction:Tumor probability\",prediction[0][0])"
      ],
      "metadata": {
        "colab": {
          "base_uri": "https://localhost:8080/"
        },
        "id": "73S42WhfrK6Y",
        "outputId": "1848c25d-f98a-4bcd-bc8b-bb14656b5b59"
      },
      "execution_count": null,
      "outputs": [
        {
          "output_type": "stream",
          "name": "stdout",
          "text": [
            "Prediciton:No Tumor probability 0.0\n"
          ]
        }
      ]
    },
    {
      "cell_type": "code",
      "source": [],
      "metadata": {
        "id": "OkUEPaE8oAJB"
      },
      "execution_count": null,
      "outputs": []
    }
  ]
}